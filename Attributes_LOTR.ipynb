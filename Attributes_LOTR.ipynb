{
  "metadata": {
    "language_info": {
      "codemirror_mode": {
        "name": "python",
        "version": 3
      },
      "file_extension": ".py",
      "mimetype": "text/x-python",
      "name": "python",
      "nbconvert_exporter": "python",
      "pygments_lexer": "ipython3",
      "version": "3.8"
    },
    "kernelspec": {
      "name": "python",
      "display_name": "Python (Pyodide)",
      "language": "python"
    }
  },
  "nbformat_minor": 4,
  "nbformat": 4,
  "cells": [
    {
      "cell_type": "code",
      "source": " Aragorn = {'Edad':'Adulto', \n            'Reino':'Gondor', \n            'Género':'Masculino', \n            'Arma favorita' :'Espada', \n            'Color de cabello':'Negro', \n            'Estatura':'Alta', \n            'Con que letra empieza su nombre': 'A'\n            'Raza' : 'Dunedain'}",
      "metadata": {},
      "execution_count": null,
      "outputs": []
    },
    {
      "cell_type": "code",
      "source": " Legolas = {'Edad':'Adulto', \n            'Reino':'Tierra media', \n            'Género':'Masculino', \n            'Arma favorita' :'Arco', \n            'Color de cabello':'Rubio', \n            'Estatura':'Alta', \n            'Con que letra empieza su nombre': 'L'\n            'Raza' : 'Elfo'}",
      "metadata": {},
      "execution_count": null,
      "outputs": []
    },
    {
      "cell_type": "code",
      "source": " Gimli = {'Edad':'Adulto', \n            'Reino':'Aman', \n            'Género':'Masculino', \n            'Arma favorita' :'Hacha', \n            'Color de cabello':'Negro', \n            'Estatura':'Baja', \n            'Con que letra empieza su nombre': 'G'\n            'Raza' : 'Enano'}",
      "metadata": {},
      "execution_count": null,
      "outputs": []
    },
    {
      "cell_type": "code",
      "source": " Gollum = {'Edad':'Muy adulto', \n            'Reino':'Valles de Anduin', \n            'Género':'Masculino', \n            'Arma favorita' :'No tiene', \n            'Color de cabello':'No tiene', \n            'Estatura':'Baja', \n            'Con que letra empieza su nombre': 'G'\n            'Raza' : 'Originalmente hobbit'}",
      "metadata": {},
      "execution_count": null,
      "outputs": []
    },
    {
      "cell_type": "code",
      "source": "Sam =  {'Edad':'Joven', \n            'Reino':'La comarca', \n            'Género':'Masculino', \n            'Arma favorita' :'Sartenes', \n            'Color de cabello':'Rubio', \n            'Estatura':'Baja', \n            'Con que letra empieza su nombre': 'S'\n            'Raza' : 'Hobbit'}",
      "metadata": {},
      "execution_count": null,
      "outputs": []
    },
    {
      "cell_type": "code",
      "source": "Frodo =  {'Edad':'Joven', \n            'Reino':'La comarca', \n            'Género':'Masculino', \n            'Arma favorita' :'No tiene', \n            'Color de cabello':'Castaño', \n            'Estatura':'Baja', \n            'Con que letra empieza su nombre': 'F'\n            'Raza' : 'Hobbit'}",
      "metadata": {},
      "execution_count": null,
      "outputs": []
    },
    {
      "cell_type": "code",
      "source": "Gandalf =  {'Edad':'Muy adulto', \n            'Reino':'Aman', \n            'Género':'Masculino', \n            'Arma favorita' :'Bastón Thranduil', \n            'Color de cabello':'Gris', \n            'Estatura':'Alta', \n            'Con que letra empieza su nombre': 'G'\n            'Raza' : 'Istar'}",
      "metadata": {},
      "execution_count": null,
      "outputs": []
    },
    {
      "cell_type": "code",
      "source": "Saruman =  {'Edad':'Muy adulto', \n            'Reino':'Isengard', \n            'Género':'Masculino', \n            'Arma favorita' :'Tiene una piedra vidente', \n            'Color de cabello':'Blanco', \n            'Estatura':'Alta', \n            'Con que letra empieza su nombre': 'S'\n            'Raza' : 'Istar'}",
      "metadata": {},
      "execution_count": null,
      "outputs": []
    },
    {
      "cell_type": "code",
      "source": "Galadriel = {'Edad':'Adulta', \n            'Reino':'Tierra media - Lothlórien', \n            'Género':'Femenino', \n            'Arma favorita' :'No tiene perooo tiene ciertos poderes como predecir el futuro', \n            'Color de cabello':'Rubio', \n            'Estatura':'Alta', \n            'Con que letra empieza su nombre': 'G'\n            'Raza' : 'Elfo'}",
      "metadata": {},
      "execution_count": null,
      "outputs": []
    },
    {
      "cell_type": "code",
      "source": "Boromir = {'Edad':'Adulto', \n            'Reino':'Gondor', \n            'Género':'Masculino', \n            'Arma favorita' :'Espada y tiene el Cuerno de Vorondil', \n            'Color de cabello':'Negro', \n            'Estatura':'Alta', \n            'Con que letra empieza su nombre': 'B'\n            'Raza' : 'Hombre'}",
      "metadata": {},
      "execution_count": null,
      "outputs": []
    },
    {
      "cell_type": "code",
      "source": "orcos  = {'Edad':'Adulto', \n            'Reino': 'creados en Isengard', \n            'Género':'Masculino', \n            'Arma favorita' :'Espadas y sus dientes', \n            'Color de cabello':'Negro', \n            'Estatura':'Alta', \n            'Con que letra empieza su nombre': 'O'\n            'Raza' : 'Solian ser elfos'}",
      "metadata": {},
      "execution_count": null,
      "outputs": []
    },
    {
      "cell_type": "code",
      "source": "",
      "metadata": {},
      "execution_count": null,
      "outputs": []
    },
    {
      "cell_type": "code",
      "source": "",
      "metadata": {},
      "execution_count": null,
      "outputs": []
    }
  ]
}