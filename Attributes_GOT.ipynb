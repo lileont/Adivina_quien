{
  "metadata": {
    "language_info": {
      "codemirror_mode": {
        "name": "python",
        "version": 3
      },
      "file_extension": ".py",
      "mimetype": "text/x-python",
      "name": "python",
      "nbconvert_exporter": "python",
      "pygments_lexer": "ipython3",
      "version": "3.8"
    },
    "kernelspec": {
      "name": "python",
      "display_name": "Python (Pyodide)",
      "language": "python"
    }
  },
  "nbformat_minor": 4,
  "nbformat": 4,
  "cells": [
    {
      "cell_type": "code",
      "source": "jaimie_lannister = {'Edad':'Adulto', \n                    'Casa':'Lannister', \n                    'Género':'Masculino', \n                    'Sobrevivio al final de la serie':'No', \n                    'Color de cabello':'Rubio', \n                    'Estatura':'Alto', \n                    'Con que letra empieza su nombre': 'J'}",
      "metadata": {
        "trusted": true
      },
      "execution_count": 3,
      "outputs": []
    },
    {
      "cell_type": "code",
      "source": "tyrion_lannister = {'Edad':'Adulto', \n                    'Casa':'Lannister', \n                    'Género':'Masculino', \n                    'Sobrevivio al final de la serie':'Si', \n                    'Color de cabello':'Castaño', \n                    'Estatura':'Baja', \n                    'Con que letra empieza su nombre': 'T'}",
      "metadata": {
        "trusted": true
      },
      "execution_count": 6,
      "outputs": []
    },
    {
      "cell_type": "code",
      "source": "cersei_lannister = {'Edad':'Adulto', \n                    'Casa':'Lannister', \n                    'Género':'Femenino', \n                    'Sobrevivio al final de la serie':'No', \n                    'Color de cabello':'Rubio', \n                    'Estatura':'Media', \n                    'Con que letra empieza su nombre': 'C'}",
      "metadata": {},
      "execution_count": null,
      "outputs": []
    },
    {
      "cell_type": "code",
      "source": "aria_stark = {'Edad':'Niñ@-adolescente', \n                    'Casa':'Stark', \n                    'Género':'Femenino', \n                    'Sobrevivio al final de la serie':'Si', \n                    'Color de cabello':'Castaño', \n                    'Estatura':'Baja', \n                    'Con que letra empieza su nombre': 'A'}",
      "metadata": {},
      "execution_count": null,
      "outputs": []
    },
    {
      "cell_type": "code",
      "source": "sansa_stark = {'Edad':'Niñ@-adolescente', \n                    'Casa':'Stark', \n                    'Género':'Femenino', \n                    'Sobrevivio al final de la serie':'Si', \n                    'Color de cabello':'Pelirojo', \n                    'Estatura':'Alta', \n                    'Con que letra empieza su nombre': 'S'}",
      "metadata": {},
      "execution_count": null,
      "outputs": []
    },
    {
      "cell_type": "code",
      "source": "bran_stark = {'Edad':'Niñ@-adolescente', \n                    'Casa':'Stark', \n                    'Género':'Masculino', \n                    'Sobrevivio al final de la serie':'Si', \n                    'Color de cabello':'Castaño', \n                    'Estatura':'Alta', \n                    'Con que letra empieza su nombre': 'S'}",
      "metadata": {},
      "execution_count": null,
      "outputs": []
    },
    {
      "cell_type": "code",
      "source": "john_snow = {'Edad':'Adolescente', \n                    'Casa':'No pertenecia a una casa', \n                    'Género':'Masculino', \n                    'Sobrevivio al final de la serie':'Si', \n                    'Color de cabello':'Negro', \n                    'Estatura':'Media', \n                    'Con que letra empieza su nombre': 'J'}",
      "metadata": {},
      "execution_count": null,
      "outputs": []
    },
    {
      "cell_type": "code",
      "source": "joffrey_baratheon = {'Edad':'Niñ@-adolescente', \n                    'Casa':'Baratheon', \n                    'Género':'Masculino', \n                    'Sobrevivio al final de la serie':'No', \n                    'Color de cabello':'Rubio', \n                    'Estatura':'Media', \n                    'Con que letra empieza su nombre': 'J'}",
      "metadata": {},
      "execution_count": null,
      "outputs": []
    },
    {
      "cell_type": "code",
      "source": "khal_drogo = {'Edad':'Adulto', \n                    'Casa':'Dothraki', \n                    'Género':'Masculino', \n                    'Sobrevivio al final de la serie':'No', \n                    'Color de cabello':'Negro', \n                    'Estatura':'ALta', \n                    'Con que letra empieza su nombre': 'K'}",
      "metadata": {},
      "execution_count": null,
      "outputs": []
    },
    {
      "cell_type": "code",
      "source": "daenerys_targaryen = {'Edad':'Adolescente', \n                    'Casa':'Targaryen', \n                    'Género':'Femenino', \n                    'Sobrevivio al final de la serie':'Si', \n                    'Color de cabello':'Plata', \n                    'Estatura':'Media', \n                    'Con que letra empieza su nombre': 'D'}",
      "metadata": {},
      "execution_count": null,
      "outputs": []
    },
    {
      "cell_type": "code",
      "source": "caminantes_blancos =  {'Edad':'Muy viejo', \n                    'Casa':'No tiene', \n                    'Género':'Femenino o masculino', \n                    'Sobrevivio al final de la serie':'No', \n                    'Color de cabello':'No tiene', \n                    'Estatura':'Variada', \n                    'Con que letra empieza su nombre': 'Puede empezar con muchas letras pero todos tienen ojos muy brillantes'}",
      "metadata": {},
      "execution_count": null,
      "outputs": []
    },
    {
      "cell_type": "code",
      "source": "",
      "metadata": {},
      "execution_count": null,
      "outputs": []
    },
    {
      "cell_type": "code",
      "source": "",
      "metadata": {},
      "execution_count": null,
      "outputs": []
    },
    {
      "cell_type": "code",
      "source": "",
      "metadata": {},
      "execution_count": null,
      "outputs": []
    },
    {
      "cell_type": "code",
      "source": "",
      "metadata": {},
      "execution_count": null,
      "outputs": []
    },
    {
      "cell_type": "code",
      "source": "",
      "metadata": {},
      "execution_count": null,
      "outputs": []
    },
    {
      "cell_type": "code",
      "source": "",
      "metadata": {},
      "execution_count": null,
      "outputs": []
    },
    {
      "cell_type": "code",
      "source": "",
      "metadata": {},
      "execution_count": null,
      "outputs": []
    },
    {
      "cell_type": "code",
      "source": "",
      "metadata": {},
      "execution_count": null,
      "outputs": []
    },
    {
      "cell_type": "code",
      "source": "",
      "metadata": {},
      "execution_count": null,
      "outputs": []
    }
  ]
}