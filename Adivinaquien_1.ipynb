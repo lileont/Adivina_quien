{
 "cells": [
  {
   "cell_type": "code",
   "execution_count": 1,
   "id": "c00e67c5-9eaa-4218-9c87-46212bfa5ba4",
   "metadata": {},
   "outputs": [],
   "source": [
    "##Adivina quién\n",
    "\n",
    "import random"
   ]
  },
  {
   "cell_type": "code",
   "execution_count": 32,
   "id": "7a8a026b-d4da-4cd7-b4fa-8221c7f9fb11",
   "metadata": {},
   "outputs": [],
   "source": [
    "##Diccionarios para Los Simpson\n",
    "\n",
    "homero_simpson = {'Nombre':'Homero Simpson',\n",
    "                  'Edad':'adulta',\n",
    "                  'Pelo':'calvicie',\n",
    "                   'Energía':'perezosa',\n",
    "                   'Frase':\"D'oh!\",\n",
    "                   'Ropa':'Jeans',\n",
    "                   'Gustos':'cerveza',\n",
    "                   'Sexo':'hombre'}\n",
    "bart_simpson = {'Nombre':'Bart Simpson',\n",
    "                  'Edad':'niñez',\n",
    "                   'Pelo':'puntiagudo',\n",
    "                   'Energía':'rebelde',\n",
    "                   'Frase':'Multiplicate por cero',\n",
    "                   'Ropa':'shorts',\n",
    "                   'Gustos':'patineta',\n",
    "                   'Sexo':'hombre'}\n",
    "lisa_simpson = {'Nombre':'Lisa Simpson',\n",
    "                  'Edad':'niñez',\n",
    "                   'Pelo':'estrellado',\n",
    "                   'Energía':'idealista',\n",
    "                   'Frase':'Si alguien me necesita, estaré en mi abitacion.',\n",
    "                   'Ropa':'vestido',\n",
    "                   'Gustos':'saxofón',\n",
    "                   'Sexo':'mujer'}\n",
    "marge_simpson = {'Nombre':'Marge Simpson',\n",
    "                  'Edad':'adulta',\n",
    "                   'Pelo':'rizado',\n",
    "                   'Energía':'estresada',\n",
    "                   'Frase':'¡Hhmmmm...!',\n",
    "                   'Ropa':'vestido',\n",
    "                   'Gustos':'apostar',\n",
    "                   'Sexo':'mujer'}\n",
    "maggie_simpson = {'Nombre':'Maggie Simpson',\n",
    "                  'Edad':'bebé',\n",
    "                   'Pelo':'estrellado',\n",
    "                   'Energía':'violenta',\n",
    "                   'Frase':'N/A',\n",
    "                   'Ropa':'vestido',\n",
    "                   'Gustos':'armas',\n",
    "                   'Sexo':'mujer'}\n",
    "señor_burns = {'Nombre':'Señor Burns',\n",
    "                  'Edad':'adulta',\n",
    "                   'Pelo':'calvicie',\n",
    "                   'Energía':'excéntrica',\n",
    "                   'Frase':'Excelente',\n",
    "                   'Ropa':'traje',\n",
    "                   'Gustos':'poder',\n",
    "                   'Sexo':'hombre'}\n",
    "nelson_muntz = {'Nombre':'Nelson Muntz',\n",
    "                  'Edad':'niñez',\n",
    "                    'Pelo':'lacio',\n",
    "                   'Energía':'destructiva',\n",
    "                   'Frase':'No te golpees tú sólo',\n",
    "                   'Ropa':'shorts',\n",
    "                   'Gustos':'golpear',\n",
    "                   'Sexo':'hombre'}\n",
    "moe_syzslak = {'Nombre':'Moe Syzslak',\n",
    "                  'Edad':'adulta',\n",
    "                    'Pelo':'rizado',\n",
    "                   'Energía':'suicida',\n",
    "                   'Frase':'Los ricos no son felices. Desde el día en que nacen, hasta el día en que mueren, creen que son felices. Más créeme... no lo son.',\n",
    "                   'Ropa':'pantalones',\n",
    "                   'Gustos':'dinero',\n",
    "                   'Sexo':'hombre'}\n",
    "milhouse_vanhouten = {'Nombre':'Milhouse Van Houten',\n",
    "                  'Edad':'niñez',\n",
    "                    'Pelo':'lacio',\n",
    "                   'Energía':'estudiosa',\n",
    "                   'Frase':'Aaaaay mis anteojos!',\n",
    "                   'Ropa':'shorts',\n",
    "                   'Gustos':'videojuegos',\n",
    "                   'Sexo':'hombre'}\n",
    "ned_flanders = {'Nombre':'Ned Flanders',\n",
    "                  'Edad':'adulta',\n",
    "                    'Pelo':'lacio',\n",
    "                   'Energía':'bondadosa',\n",
    "                   'Frase':'¡Mi amiguillo, estoy de acuerdillo!',\n",
    "                   'Ropa':'pantalones',\n",
    "                   'Gustos':'Biblia',\n",
    "                   'Sexo':'hombre'}\n"
   ]
  },
  {
   "cell_type": "code",
   "execution_count": 33,
   "id": "5396747b-269e-480c-9eca-e711b4a4edb7",
   "metadata": {},
   "outputs": [],
   "source": [
    "personajes_simpson = [homero_simpson, bart_simpson, lisa_simpson, marge_simpson, maggie_simpson,señor_burns, nelson_muntz, moe_syzslak, milhouse_vanhouten, ned_flanders]"
   ]
  },
  {
   "cell_type": "code",
   "execution_count": null,
   "id": "5e60e7d2-f5cd-43f0-84b8-44264c5e613f",
   "metadata": {},
   "outputs": [],
   "source": [
    "personajes_got"
   ]
  },
  {
   "cell_type": "code",
   "execution_count": null,
   "id": "a5421f92-7cd1-472d-bf7e-28dca727fd37",
   "metadata": {},
   "outputs": [],
   "source": [
    "###que serie quieres??????\n",
    "if simpson then >>> \n",
    "personajes= personajes_simpson\n",
    "\n",
    "if got then personajes = personajes_got"
   ]
  },
  {
   "cell_type": "code",
   "execution_count": 34,
   "id": "cb0cfcc5-2e0d-4ea0-a12c-d1e4642a199c",
   "metadata": {},
   "outputs": [
    {
     "name": "stdout",
     "output_type": "stream",
     "text": [
      "{'Nombre': 'Nelson Muntz', 'Edad': 'niñez', 'Pelo': 'lacio', 'Energía': 'destructiva', 'Frase': 'No te golpees tú sólo', 'Ropa': 'shorts', 'Gustos': 'golpear', 'Sexo': 'hombre'}\n"
     ]
    }
   ],
   "source": [
    "personaje_escogido = personajes[random.randint(0,10)]\n",
    "##revisar que se imprime bien, quitar al final\n",
    "print(personaje_escogido)"
   ]
  },
  {
   "cell_type": "code",
   "execution_count": 37,
   "id": "1593c009-6664-4bd5-9494-8dbf629884f6",
   "metadata": {},
   "outputs": [
    {
     "name": "stdout",
     "output_type": "stream",
     "text": [
      "Homero Simpson\n",
      "['adulta', 'calvicie', 'perezosa', \"D'oh!\", 'Jeans', 'cerveza', 'hombre']\n",
      "Bart Simpson\n",
      "['niñez', 'puntiagudo', 'rebelde', 'Multiplicate por cero', 'shorts', 'patineta', 'hombre']\n",
      "Lisa Simpson\n",
      "['niñez', 'estrellado', 'idealista', 'Si alguien me necesita, estaré en mi abitacion.', 'vestido', 'saxofón', 'mujer']\n",
      "Marge Simpson\n",
      "['adulta', 'rizado', 'estresada', '¡Hhmmmm...!', 'vestido', 'apostar', 'mujer']\n",
      "Maggie Simpson\n",
      "['bebé', 'estrellado', 'violenta', 'N/A', 'vestido', 'armas', 'mujer']\n",
      "Señor Burns\n",
      "['adulta', 'calvicie', 'excéntrica', 'Excelente', 'traje', 'poder', 'hombre']\n",
      "Nelson Muntz\n",
      "['niñez', 'lacio', 'destructiva', 'No te golpees tú sólo', 'shorts', 'golpear', 'hombre']\n",
      "Moe Syzslak\n",
      "['adulta', 'rizado', 'suicida', 'Los ricos no son felices. Desde el día en que nacen, hasta el día en que mueren, creen que son felices. Más créeme... no lo son.', 'pantalones', 'dinero', 'hombre']\n",
      "Milhouse Van Houten\n",
      "['niñez', 'lacio', 'estudiosa', 'Aaaaay mis anteojos!', 'shorts', 'videojuegos', 'hombre']\n",
      "Ned Flanders\n",
      "['adulta', 'lacio', 'bondadosa', '¡Mi amiguillo, estoy de acuerdillo!', 'pantalones', 'Biblia', 'hombre']\n",
      "None\n"
     ]
    }
   ],
   "source": [
    "######### quitr simpson y hacerlo general\n",
    "def caracteristicas(lista_caracteristicas):\n",
    "    \n",
    "    for simpson in lista_caracteristicas:\n",
    "        nombrecaracteristica = ''\n",
    "        printlista = []\n",
    "        \n",
    "        for valor in simpson:\n",
    "            if valor == 'Nombre':\n",
    "                nombrecaracteristica = simpson[valor]\n",
    "            else:\n",
    "                printlista.append(simpson[valor])\n",
    "        \n",
    "        print(nombrecaracteristica)\n",
    "        print(printlista)\n",
    "\n",
    "print(caracteristicas(personajes_simpson))"
   ]
  },
  {
   "cell_type": "code",
   "execution_count": 38,
   "id": "e30a38d7-8066-4bd5-8d04-6a7b3436e92e",
   "metadata": {},
   "outputs": [
    {
     "name": "stdout",
     "output_type": "stream",
     "text": [
      "Bienvenido a nuestro juego de Adivina quién - Los Simpson\n",
      "Puedes elegir hasta 4 características para adivinar al personaje\n",
      "Las características que puedes poner son: Nombre / Sexo / Edad / Pelo / Ropa / Energía /Gustos / Frase\n"
     ]
    }
   ],
   "source": [
    "print(\"Bienvenido a nuestro juego de Adivina quién\")\n",
    "print(\"Puedes elegir hasta 4 características para adivinar al personaje\")\n",
    "opciones = list(personaje_escogido.keys())\n",
    "print(f\"Las características que puedes poner son: \n",
    "      {opciones}'\n",
    "      \n",
    "      Sexo / Edad / Pelo / Ropa / Energía /Gustos / Frase\")"
   ]
  },
  {
   "cell_type": "code",
   "execution_count": 51,
   "id": "841aed81-2851-4917-ac8f-2769b8d00c42",
   "metadata": {},
   "outputs": [],
   "source": [
    "inputusuario = ''\n",
    "estatus = ''\n",
    "preguntausuarioCount = 0"
   ]
  },
  {
   "cell_type": "code",
   "execution_count": 54,
   "id": "17411edd-f421-4837-a0a5-9673f2867d5c",
   "metadata": {},
   "outputs": [
    {
     "data": {
      "text/plain": [
       "['Nombre', 'Edad', 'Pelo', 'Energía', 'Frase', 'Ropa', 'Gustos', 'Sexo']"
      ]
     },
     "execution_count": 54,
     "metadata": {},
     "output_type": "execute_result"
    }
   ],
   "source": [
    "opciones = list(homero_simpson.keys())\n",
    "opciones"
   ]
  },
  {
   "cell_type": "code",
   "execution_count": 55,
   "id": "6856375e-b104-40e3-aeaa-b4f79529c982",
   "metadata": {},
   "outputs": [
    {
     "name": "stdout",
     "output_type": "stream",
     "text": [
      "No te golpees tú sólo\n"
     ]
    }
   ],
   "source": [
    "if inputusuario in opciones:\n",
    "    print(personaje_escogido[opciones[4]]) ###reemplaza mis miles de if\n",
    "    \n",
    "    \n",
    "    !!! hacer que el 4 no sea fijo y mas bien sea un indice a lo que el usuario eligio"
   ]
  },
  {
   "cell_type": "code",
   "execution_count": 9,
   "id": "cfe2245f-7738-4a33-9e04-0464771226b8",
   "metadata": {},
   "outputs": [
    {
     "ename": "NameError",
     "evalue": "name 'inputusuario' is not defined",
     "output_type": "error",
     "traceback": [
      "\u001b[0;31m---------------------------------------------------------------------------\u001b[0m",
      "\u001b[0;31mNameError\u001b[0m                                 Traceback (most recent call last)",
      "Input \u001b[0;32mIn [9]\u001b[0m, in \u001b[0;36m<cell line: 1>\u001b[0;34m()\u001b[0m\n\u001b[0;32m----> 1\u001b[0m \u001b[38;5;28;01mwhile\u001b[39;00m \u001b[43minputusuario\u001b[49m \u001b[38;5;241m!=\u001b[39m \u001b[38;5;124m'\u001b[39m\u001b[38;5;124msalir\u001b[39m\u001b[38;5;124m'\u001b[39m \u001b[38;5;129;01mand\u001b[39;00m estatus \u001b[38;5;241m!=\u001b[39m \u001b[38;5;124m'\u001b[39m\u001b[38;5;124mterminado\u001b[39m\u001b[38;5;124m'\u001b[39m:\n\u001b[1;32m      4\u001b[0m     \u001b[38;5;28;01mpass\u001b[39;00m\n",
      "\u001b[0;31mNameError\u001b[0m: name 'inputusuario' is not defined"
     ]
    }
   ],
   "source": [
    "while inputusuario != 'salir' and estatus != 'terminado':\n",
    "    \n",
    "    \n",
    "    inputusuario = input (\"Escribe una de las siguientes caracteristicas para descubrir tu personaje: {opciones}\n",
    "                \n",
    "    ##que una opcion sea adivinar para que si ya se la sabe lo ponga\n",
    "                          \n",
    "    if preguntausuarioCount <= 3:\n",
    "                          \n",
    "                          if inputusuario == opcion['Nombre']:\n",
    "                                print(personaje_escogido['Nombre'] ###poner que no se puede\n",
    "                                preguntausuarioCount += 1\n",
    "                                      \n",
    "                          if inputusuario == 'Sexo':\n",
    "                                print(personaje_escogido['Sexo']\n",
    "                                preguntausuarioCount += 1\n",
    "                        \n",
    "                          if inputusuario == 'Edad':\n",
    "                                print(personaje_escogido['Edad']\n",
    "                                preguntausuarioCount += 1\n",
    "                        \n",
    "                          if inputusuario == 'Pelo':\n",
    "                                print(personaje_escogido['Pelo']\n",
    "                                preguntausuarioCount += 1\n",
    "                                \n",
    "                          if inputusuario == 'Ropa':\n",
    "                                print(personaje_escogido['Ropa']\n",
    "                                preguntausuarioCount += 1\n",
    "                        \n",
    "                          if inputusuario == 'Energía':\n",
    "                                print(personaje_escogido['Energía']\n",
    "                                preguntausuarioCount += 1\n",
    "                        \n",
    "                          if inputusuario == 'Gustos':\n",
    "                                print(personaje_escogido['Gustos']\n",
    "                                preguntausuarioCount += 1\n",
    "                        \n",
    "                          if inputusuario == 'Frase':\n",
    "                                print(personaje_escogido['Frase']\n",
    "                                preguntausuarioCount += 1\n",
    "    else:\n",
    "                        resultadousuario = input(\"Ya no puedes tener más pistas. ¡Debes adivinar el nombre del personaje\")\n",
    "                         if resultadousuario == personaje_escogido['Nombre'] ###lower, contains \n",
    "    pass"
   ]
  },
  {
   "cell_type": "code",
   "execution_count": null,
   "id": "22a1370c-f9bc-40f8-a88f-1bb83dc8aeab",
   "metadata": {},
   "outputs": [],
   "source": []
  }
 ],
 "metadata": {
  "kernelspec": {
   "display_name": "Python 3 (ipykernel)",
   "language": "python",
   "name": "python3"
  },
  "language_info": {
   "codemirror_mode": {
    "name": "ipython",
    "version": 3
   },
   "file_extension": ".py",
   "mimetype": "text/x-python",
   "name": "python",
   "nbconvert_exporter": "python",
   "pygments_lexer": "ipython3",
   "version": "3.9.12"
  }
 },
 "nbformat": 4,
 "nbformat_minor": 5
}
